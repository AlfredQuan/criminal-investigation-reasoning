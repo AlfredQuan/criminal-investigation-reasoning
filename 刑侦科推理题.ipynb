{
 "cells": [
  {
   "cell_type": "code",
   "execution_count": 1,
   "metadata": {},
   "outputs": [],
   "source": [
    "import numpy as np\n",
    "from collections import Counter"
   ]
  },
  {
   "cell_type": "code",
   "execution_count": 2,
   "metadata": {},
   "outputs": [],
   "source": [
    "def Q2(answer):\n",
    "    element = [2,3,0,1]\n",
    "    return element[answer[1]] == answer[4]"
   ]
  },
  {
   "cell_type": "code",
   "execution_count": 3,
   "metadata": {},
   "outputs": [],
   "source": [
    "def search_the_one(the_four_answers):\n",
    "    list = {2:0,5:1,1:2,3:3}\n",
    "    for i in the_four_answers:\n",
    "        if Counter(the_four_answers)[i] == 1:\n",
    "            for j in range(4):\n",
    "                if the_four_answers[j] == i:\n",
    "                    return j\n",
    "    \n",
    "            "
   ]
  },
  {
   "cell_type": "code",
   "execution_count": 4,
   "metadata": {},
   "outputs": [],
   "source": [
    "def Q3(answer):\n",
    "    the_four_answers = [answer[2],answer[5],answer[1],answer[3]]\n",
    "    if 3 in Counter(the_four_answers).values():\n",
    "        if answer[2] == search_the_one(the_four_answers):\n",
    "            return True\n",
    "        else:\n",
    "            return False\n",
    "    else:\n",
    "        return False"
   ]
  },
  {
   "cell_type": "code",
   "execution_count": 5,
   "metadata": {},
   "outputs": [],
   "source": [
    "def Q4(answer):\n",
    "    the_sames = [answer[0]==answer[4],answer[1]==answer[6],answer[0]==answer[8],answer[5]==answer[9]]\n",
    "    if Counter(the_sames)[True] == 1:\n",
    "        for i in range(4):\n",
    "            if the_sames[i] == 1:\n",
    "                right_answer = i\n",
    "        if answer[3] == right_answer:\n",
    "            return True\n",
    "    else:\n",
    "        return False\n",
    "        "
   ]
  },
  {
   "cell_type": "code",
   "execution_count": 6,
   "metadata": {},
   "outputs": [],
   "source": [
    "def Q5(answer):\n",
    "    if answer[4] == 0:\n",
    "        if answer[7] == 0:\n",
    "            return True\n",
    "        else:\n",
    "            return False\n",
    "    elif answer[4] == 1:\n",
    "        if answer[3] == 1:\n",
    "            return True\n",
    "        else:\n",
    "            return False\n",
    "    elif answer[4] == 2:\n",
    "        if answer[8] == 2:\n",
    "            return True\n",
    "        else:\n",
    "            return False\n",
    "    elif answer[4] == 3:\n",
    "        if answer[6] == 3:\n",
    "            return True\n",
    "        else:\n",
    "            return False"
   ]
  },
  {
   "cell_type": "code",
   "execution_count": 7,
   "metadata": {},
   "outputs": [],
   "source": [
    "def Q6(answer):\n",
    "    if answer[5] == 0:\n",
    "        if answer[1] == answer[3] and answer[3] == answer[7]:\n",
    "            return True\n",
    "        else:\n",
    "            return False\n",
    "    if answer[5] == 1:\n",
    "        if answer[0] == answer[5] and answer[5] == answer[7]:\n",
    "            return True\n",
    "        else:\n",
    "            return False\n",
    "    if answer[5] == 2:\n",
    "        if answer[2] == answer[9] and answer[9] == answer[7]:\n",
    "            return True\n",
    "        else:\n",
    "            return False\n",
    "    if answer[5] == 3:\n",
    "        if answer[4] == answer[8] and answer[8] == answer[7]:\n",
    "            return True\n",
    "        else:\n",
    "            return False       "
   ]
  },
  {
   "cell_type": "code",
   "execution_count": 8,
   "metadata": {},
   "outputs": [],
   "source": [
    "def Q7(answer):\n",
    "    counter = Counter(answer)\n",
    "    elements = [2,1,0,3]\n",
    "    if elements[answer[6]] == sorted(counter.items(),key = lambda x:x[1])[0][0]:\n",
    "        return True\n",
    "    else:\n",
    "        return False\n"
   ]
  },
  {
   "cell_type": "code",
   "execution_count": 9,
   "metadata": {},
   "outputs": [],
   "source": [
    "def Q8(answer):\n",
    "    if answer[7] == 0:\n",
    "        if abs(answer[6]-answer[0]) == 1:\n",
    "            return False\n",
    "        else:\n",
    "            return True\n",
    "    elif answer[7] == 1:\n",
    "        if abs(answer[5]-answer[0]) == 1:\n",
    "            return False\n",
    "        else:\n",
    "            return True\n",
    "    elif answer[7] == 2:\n",
    "        if abs(answer[1]-answer[0]) == 1:\n",
    "            return False\n",
    "        else:\n",
    "            return True  \n",
    "    elif answer[7] == 3:\n",
    "        if abs(answer[9]-answer[0]) == 1:\n",
    "            return False\n",
    "        else:\n",
    "            return True        "
   ]
  },
  {
   "cell_type": "code",
   "execution_count": 10,
   "metadata": {},
   "outputs": [],
   "source": [
    "def Q9(answer):\n",
    "    elements = [5,9,1,8]\n",
    "    if answer[0] == answer[5]:\n",
    "        if answer[elements[answer[8]]] != answer[4]:\n",
    "            return True\n",
    "        else:\n",
    "            return False\n",
    "    else:\n",
    "        if answer[elements[answer[8]]] == answer[4]:\n",
    "            return True\n",
    "        else:\n",
    "            return False"
   ]
  },
  {
   "cell_type": "code",
   "execution_count": 11,
   "metadata": {},
   "outputs": [],
   "source": [
    "def Q10(answer):\n",
    "    elements =[3,2,4,1]\n",
    "    counter = Counter(answer)\n",
    "    diff = sorted(counter.items(),key = lambda x:x[1])[-1][1] - sorted(counter.items(),key = lambda x:x[1])[0][1]\n",
    "    if elements[answer[9]] == diff:\n",
    "        return True\n",
    "    else:\n",
    "        return False"
   ]
  },
  {
   "cell_type": "code",
   "execution_count": 16,
   "metadata": {},
   "outputs": [
    {
     "name": "stdout",
     "output_type": "stream",
     "text": [
      "已经循环了10000次\n",
      "已经循环了20000次\n",
      "已经循环了30000次\n",
      "已经循环了40000次\n",
      "已经循环了50000次\n",
      "已经循环了60000次\n",
      "已经循环了70000次\n",
      "已经循环了80000次\n",
      "已经循环了90000次\n",
      "已经循环了100000次\n",
      "已经循环了110000次\n",
      "已经循环了120000次\n",
      "已经循环了130000次\n",
      "已经循环了140000次\n",
      "已经循环了150000次\n",
      "已经循环了160000次\n",
      "已经循环了170000次\n",
      "已经循环了180000次\n",
      "已经循环了190000次\n",
      "已经循环了200000次\n",
      "已经循环了210000次\n",
      "已经循环了220000次\n",
      "已经循环了230000次\n",
      "已经循环了240000次\n",
      "已经循环了250000次\n",
      "已经循环了260000次\n",
      "已经循环了270000次\n",
      "已经循环了280000次\n",
      "已经循环了290000次\n",
      "已经循环了300000次\n",
      "已经循环了310000次\n",
      "已经循环了320000次\n",
      "已经循环了330000次\n",
      "已经循环了340000次\n",
      "已经循环了350000次\n",
      "已经循环了360000次\n",
      "已经循环了370000次\n",
      "已经循环了380000次\n",
      "已经循环了390000次\n",
      "已经循环了400000次\n",
      "已经循环了410000次\n",
      "已经循环了420000次\n",
      "已经循环了430000次\n",
      "已经循环了440000次\n",
      "已经循环了450000次\n",
      "已经循环了460000次\n",
      "已经循环了470000次\n",
      "已经循环了480000次\n",
      "已经循环了490000次\n",
      "已经循环了500000次\n",
      "已经循环了510000次\n",
      "已经循环了520000次\n",
      "已经循环了530000次\n",
      "已经循环了540000次\n",
      "已经循环了550000次\n",
      "已经循环了560000次\n",
      "已经循环了570000次\n",
      "已经循环了580000次\n",
      "已经循环了590000次\n",
      "已经循环了600000次\n",
      "已经循环了610000次\n",
      "已经循环了620000次\n",
      "已经循环了630000次\n",
      "已经循环了640000次\n",
      "已经循环了650000次\n",
      "已经循环了660000次\n",
      "[1 2 0 2 0 2 3 0 1 0]\n"
     ]
    }
   ],
   "source": [
    "i = 0\n",
    "while True:\n",
    "    answer = np.random.randint(0,4,size = (10))\n",
    "    if Q2(answer) and Q3(answer) and Q4(answer) and Q5(answer) and Q6(answer) and Q7(answer) and Q8(answer) and Q9(answer) and Q10(answer):\n",
    "        print(answer )\n",
    "        break\n",
    "    i += 1\n",
    "    if i % 10000 == 0:\n",
    "        print(\"已经循环了\" + str(i) + \"次\")\n",
    "   "
   ]
  }
 ],
 "metadata": {
  "kernelspec": {
   "display_name": "Python 3",
   "language": "python",
   "name": "python3"
  },
  "language_info": {
   "codemirror_mode": {
    "name": "ipython",
    "version": 3
   },
   "file_extension": ".py",
   "mimetype": "text/x-python",
   "name": "python",
   "nbconvert_exporter": "python",
   "pygments_lexer": "ipython3",
   "version": "3.6.3"
  }
 },
 "nbformat": 4,
 "nbformat_minor": 2
}
